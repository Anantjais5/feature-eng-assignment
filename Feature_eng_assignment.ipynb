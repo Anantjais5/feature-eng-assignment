{
  "nbformat": 4,
  "nbformat_minor": 0,
  "metadata": {
    "colab": {
      "provenance": []
    },
    "kernelspec": {
      "name": "python3",
      "display_name": "Python 3"
    },
    "language_info": {
      "name": "python"
    }
  },
  "cells": [
    {
      "cell_type": "markdown",
      "source": [
        "1. **What is parameter ?**\n",
        "\n",
        "A parameter is a numerical or functional characteristic that defines a model, system, or equation. In the context of machine learning:\n",
        "\n",
        "Model Parameters are the internal variables learned from the training data, such as weights in a linear regression or the weights and biases in a neural network.\n",
        "\n",
        "Parameters determine how the model makes predictions on new data."
      ],
      "metadata": {
        "id": "-0L3lM1_oC0e"
      }
    },
    {
      "cell_type": "markdown",
      "source": [
        "2. What is correlation?\n",
        "What does negative correlation mean?\n",
        "\n",
        "Correlation measures the strength and direction of a relationship between two variables. It quantifies how changes in one variable are associated with changes in another.\n",
        "\n",
        "Types of Correlation:\n",
        "\n",
        "Positive Correlation: Both variables increase or decrease together.\n",
        "\n",
        "Negative Correlation: As one variable increases, the other decreases.\n",
        "\n",
        "Zero Correlation: No relationship exists between the variables.\n",
        "\n",
        "Negative correlation means that as one variable increases, the other variable tends to decrease, and vice versa.\n",
        "\n",
        "Example: As the price of a product increases, the demand for that product typically decreases.\n",
        "The strength of the negative correlation is stronger as the correlation coefficient approaches -1."
      ],
      "metadata": {
        "id": "LwNZJdHqoXU5"
      }
    },
    {
      "cell_type": "markdown",
      "source": [
        "3. Define Machine Learning. What are the main components in Machine Learning?\n",
        "\n",
        "Machine Learning uses algorithms and statistical models to enable computers to identify patterns, make decisions, or predict outcomes based on data.\n",
        "\n",
        "The main components of Machine Learning include:\n",
        "\n",
        "Data: The raw information used to train the model.\n",
        "\n",
        "Features: Specific variables or attributes used as inputs to the model.\n",
        "\n",
        "Model: The mathematical structure or algorithm that maps inputs to outputs.\n",
        "\n",
        "Training: The process of optimizing the model parameters using data.\n",
        "\n",
        "Validation and Testing: Assessing model performance on unseen data to ensure generalization.\n",
        "\n",
        "Evaluation Metrics: Metrics (e.g., accuracy, precision, recall, etc.) used to measure the performance of the model.\n",
        "\n",
        "Hyperparameters: External configuration settings of a model (e.g., learning rate, number of layers).\n"
      ],
      "metadata": {
        "id": "hnOqz5fJotWB"
      }
    },
    {
      "cell_type": "markdown",
      "source": [
        "4. How does loss value help in determining whether the model is good or not?\n",
        "\n",
        "The loss value represents how well the predictions of the model match the actual outcomes in the training data.\n",
        "\n",
        "Low Loss: Indicates that the model’s predictions are close to the true values.\n",
        "High Loss: Indicates poor predictions and that the model needs further optimization.\n",
        "Types of loss functions include:\n",
        "\n",
        "Mean Squared Error (MSE) for regression.\n",
        "Cross-Entropy Loss for classification.\n",
        "The loss value is minimized during training to improve model performance."
      ],
      "metadata": {
        "id": "uXs5RnLVpJHr"
      }
    },
    {
      "cell_type": "markdown",
      "source": [
        "5. What are continuous and categorical variables?\n",
        "\n",
        "Categorical variables need to be converted into numerical formats for machine learning models. Common techniques include:\n",
        "Continuous Variables: These are numerical variables that can take any value within a range.\n",
        "\n",
        "Example: Age, temperature, salary, height.\n",
        "\n",
        "Categorical Variables: These represent distinct groups or categories and are often non-numerical.\n",
        "\n",
        "Example: Gender (Male/Female), color (Red/Blue/Green), type of car (SUV/Sedan)."
      ],
      "metadata": {
        "id": "htyR6RJsGhg9"
      }
    },
    {
      "cell_type": "markdown",
      "source": [
        "6. How do we handle categorical variables in Machine Learning? What are the common techniques?\n",
        "\n",
        "Categorical variables need to be converted into numerical formats for machine learning models.\n",
        "\n",
        "Label Encoding:\n",
        "\n",
        "Assigns each category a unique integer.\n",
        "Example: ['Red', 'Blue', 'Green'] → [0, 1, 2].\n",
        "Suitable for ordinal data but may introduce unintended relationships for nominal data.\n",
        "One-Hot Encoding:\n",
        "\n",
        "Creates binary columns for each category.\n",
        "Example: ['Red', 'Blue', 'Green'] → [[1, 0, 0], [0, 1, 0], [0, 0, 1]].\n",
        "Widely used for nominal data.\n",
        "Ordinal Encoding:\n",
        "\n",
        "Similar to label encoding but explicitly assigns numbers based on category order.\n",
        "Example: ['Low', 'Medium', 'High'] → [0, 1, 2].\n",
        "Target Encoding:\n",
        "\n",
        "Replaces categories with the mean (or other statistics) of the target variable for that category.\n",
        "Common in regression problems but may cause data leakage.\n",
        "Frequency Encoding:\n",
        "\n",
        "Replaces categories with their frequency count or proportion in the dataset.\n",
        "Binary Encoding:\n",
        "\n",
        "Converts categories into binary digits and uses fewer columns compared to one-hot encoding."
      ],
      "metadata": {
        "id": "1cD1MeO0G0bV"
      }
    },
    {
      "cell_type": "markdown",
      "source": [
        "7. What do you mean by training and testing a dataset?\n",
        "\n",
        "Training Dataset: The portion of data used to train the model by adjusting its parameters. The model learns patterns and relationships in the data.\n",
        "\n",
        "Testing Dataset: A separate portion of data used to evaluate the model’s performance and check how well it generalizes to unseen data.\n",
        "\n"
      ],
      "metadata": {
        "id": "6DzGQhf5dllU"
      }
    },
    {
      "cell_type": "markdown",
      "source": [
        "8. What is sklearn.preprocessing?\n",
        "\n",
        "sklearn.preprocessing is a module in Scikit-learn that provides utilities for data preprocessing.\n",
        "\n",
        "It includes tools for:\n",
        "\n",
        "Standardization (e.g., StandardScaler).\n",
        "Normalization (e.g., Normalizer).\n",
        "Encoding categorical features (e.g., LabelEncoder, OneHotEncoder).\n",
        "Handling missing values (e.g., SimpleImputer).\n",
        "Polynomial feature generation (e.g., PolynomialFeatures).\n",
        "\n",
        "These tools ensure data is formatted properly for machine learning models."
      ],
      "metadata": {
        "id": "IvuvTJmf34qm"
      }
    },
    {
      "cell_type": "markdown",
      "source": [
        "9. What is a Test set ?\n",
        "The test set is a subset of the data reserved for evaluating the final model. It is not used during training to avoid bias in performance evaluation. The test set represents how the model will perform on real-world, unseen data.\n",
        "\n"
      ],
      "metadata": {
        "id": "ZB-rLR2A4G-1"
      }
    },
    {
      "cell_type": "markdown",
      "source": [
        "10. **How do we split data for model fitting (training and testing) in Python?****How do you approach a Machine Learning problem?**\n",
        "\n",
        "The most common method is to use Scikit-learn’s train_test_split function:\n",
        "\n",
        "test_size: Fraction of data allocated to the test set (e.g., 0.2 = 20% test, 80% train).\n",
        "\n",
        "random_state: Ensures reproducibility of the split."
      ],
      "metadata": {
        "id": "27_WWVfr4UtT"
      }
    },
    {
      "cell_type": "markdown",
      "source": [
        "11. Why do we have to perform EDA before fitting a model to the data?\n",
        "\n",
        "Exploratory Data Analysis (EDA) is crucial because it:\n",
        "\n",
        "Identifies Data Issues: Detects missing values, outliers, and errors in the dataset.\n",
        "\n",
        "Understands Variable Relationships: Helps uncover patterns and correlations between variables.\n",
        "\n",
        "Validates Assumptions: Ensures the dataset aligns with the model's requirements (e.g., normality, linearity).\n",
        "\n",
        "Guides Feature Engineering: Helps in creating new features or selecting the most relevant ones.\n",
        "\n",
        "Improves Model Performance: By cleaning and preprocessing data, EDA reduces noise and improves accuracy.\n",
        "\n",
        "Avoids Biases: Identifies potential biases or imbalances in the data.\n"
      ],
      "metadata": {
        "id": "r3jJs9JL4psP"
      }
    },
    {
      "cell_type": "markdown",
      "source": [
        "12. What is correlation?\n",
        "\n",
        "Correlation measures the strength and direction of a relationship between two variables.\n",
        "\n"
      ],
      "metadata": {
        "id": "9pkqnj1w5CzE"
      }
    },
    {
      "cell_type": "markdown",
      "source": [
        "13. What does negative correlation mean?\n",
        "\n",
        "Negative correlation indicates that as one variable increases, the other decreases.\n",
        "\n",
        "Example: The amount of rainfall and the need for irrigation. As rainfall increases, irrigation needs decrease.\n"
      ],
      "metadata": {
        "id": "Ks2iwzk35SBP"
      }
    },
    {
      "cell_type": "markdown",
      "source": [
        "14. How can you find correlation between variables in Python ?\n",
        "\n",
        "The corr() function computes the Pearson correlation by default. Other methods like Spearman or Kendall can be specified.\n",
        "\n"
      ],
      "metadata": {
        "id": "mJMHTayH5bSU"
      }
    },
    {
      "cell_type": "markdown",
      "source": [
        "15. What is causation? Explain difference between correlation and causation with an example?\n",
        "\n",
        "Causation implies that one variable directly affects another, while correlation indicates an association without necessarily proving cause and effect.\n",
        "\n",
        "Example:\n",
        "Correlation: Ice cream sales and drowning incidents are positively correlated. This does not mean eating ice cream causes drowning.\n",
        "\n",
        "Causation: Higher temperatures in summer cause both increased ice cream sales and more people swimming, which may lead to more drownings.\n",
        "\n"
      ],
      "metadata": {
        "id": "faDHjjg_50Lx"
      }
    },
    {
      "cell_type": "markdown",
      "source": [
        "16. What is an Optimizer? What are different types of optimizers? Explain each with an example\n",
        "\n",
        "An optimizer in machine learning minimizes the loss function by adjusting the model parameters. It determines how weights and biases are updated during training.\n",
        "\n",
        "Types of Optimizers:\n",
        "Gradient Descent:\n",
        "\n",
        "Updates weights in the direction of the negative gradient.\n",
        "\n",
        "Stochastic Gradient Descent (SGD):\n",
        "\n",
        "Updates weights for a single sample at a time, introducing noise but faster convergence.\n",
        "\n",
        "Momentum:\n",
        "\n",
        "Accelerates SGD by adding a fraction of the previous update to the current update.\n",
        "\n",
        "RMSprop:\n",
        "\n",
        "Uses an adaptive learning rate by dividing the gradient by a moving average of squared gradients.\n",
        "\n",
        "Adam (Adaptive Moment Estimation):\n",
        "\n",
        "Combines momentum and RMSprop for adaptive learning rates.\n",
        "\n"
      ],
      "metadata": {
        "id": "Nc8SxmYK6BWK"
      }
    },
    {
      "cell_type": "markdown",
      "source": [
        "17.** What is sklearn.linear_model ?**\n",
        "\n",
        "sklearn.linear_model is a module in Scikit-learn that provides linear models for regression and classification tasks. Examples include:\n",
        "\n",
        "Linear Regression: LinearRegression()\n",
        "Logistic Regression: LogisticRegression()\n",
        "Ridge Regression: Ridge()\n",
        "Lasso Regression: Lasso()\n"
      ],
      "metadata": {
        "id": "cd1IR6pJ6aZi"
      }
    },
    {
      "cell_type": "markdown",
      "source": [
        "18. What does model.fit() do? What arguments must be given?\n",
        "\n",
        "model.fit() trains a machine learning model using the provided data.\n",
        "\n",
        "Arguments:\n",
        "X: Feature matrix (independent variables).\n",
        "y: Target vector (dependent variable)."
      ],
      "metadata": {
        "id": "PqV1YFrk6ibW"
      }
    },
    {
      "cell_type": "markdown",
      "source": [
        "19. What does model.predict() do? What arguments must be given ?\n",
        "\n",
        "model.predict() generates predictions using the trained model on new data.\n",
        "\n",
        "Arguments:\n",
        "X: Feature matrix of the test or validation data.\n"
      ],
      "metadata": {
        "id": "ehiNZDEn6uIB"
      }
    },
    {
      "cell_type": "markdown",
      "source": [
        "20.What are continuous and categorical variables?\n",
        "\n",
        "Continuous Variables:\n",
        "\n",
        "Represent measurable quantities and can take any value within a range.\n",
        "Example: Age, height, temperature.\n",
        "\n",
        "Categorical Variables:\n",
        "\n",
        "Represent distinct groups or categories and are often non-numerical.\n",
        "Example: Gender, product category, colors.\n",
        "Categorical variables are often encoded into numerical formats (e.g., one-hot encoding) for machine learning."
      ],
      "metadata": {
        "id": "bL4KsAYQ62iu"
      }
    },
    {
      "cell_type": "markdown",
      "source": [
        "21. What is feature scaling? How does it help in Machine Learning?\n",
        "\n",
        "Feature Scaling is the process of standardizing or normalizing the range of independent variables or features in a dataset.\n",
        "\n",
        "Its use in machine learning\n",
        "\n",
        "Improves Model Performance: Ensures that features with larger scales do not dominate models that rely on distance measures (e.g., K-Nearest Neighbors, Support Vector Machines).\n",
        "Speeds Up Convergence: Gradient-based algorithms like Gradient Descent converge faster when features are scaled.\n",
        "Maintains Consistency: Helps models treat all features equally.\n",
        "Prevents Computational Errors: Features with vastly different ranges can lead to numerical instability."
      ],
      "metadata": {
        "id": "ZlsxbTLB69wx"
      }
    },
    {
      "cell_type": "markdown",
      "source": [
        "22. How do we perform scaling in Python?\n",
        "\n",
        "We perform scaling by\n",
        "\n",
        "Standardization\n",
        "\n",
        "Normalization\n",
        "\n",
        "\n"
      ],
      "metadata": {
        "id": "894pFzN67M47"
      }
    },
    {
      "cell_type": "markdown",
      "source": [
        "23. What is sklearn.preprocessing?\n",
        "\n",
        "sklearn.preprocessing is a module in Scikit-learn that provides utilities for data preprocessing. It includes tools for:\n",
        "\n",
        "Scaling and normalization: (StandardScaler, MinMaxScaler).\n",
        "Encoding categorical features: (OneHotEncoder, LabelEncoder).\n",
        "Generating polynomial features: (PolynomialFeatures).\n",
        "Handling missing values: (SimpleImputer)."
      ],
      "metadata": {
        "id": "2JlC_E087ezZ"
      }
    },
    {
      "cell_type": "markdown",
      "source": [
        "24. How do we split data for model fitting (training and testing) in Python ?\n",
        "\n",
        "Using Scikit-learn’s train_test_split function\n",
        "test_size: Fraction of data used for testing (e.g., test_size=0.2 means 20% test, 80% train).\n",
        "random_state: Ensures reproducibility of the split.\n",
        "stratify: Ensures the class distribution in the train and test sets matches the original dataset."
      ],
      "metadata": {
        "id": "_qNDJBMW7lrA"
      }
    },
    {
      "cell_type": "markdown",
      "source": [
        "25. Explain data encoding?\n",
        "\n",
        "Data Encoding is the process of converting categorical variables into numerical formats for machine learning models.\n",
        "\n",
        "Most machine learning models require numerical inputs. Encoding categorical data ensures compatibility and allows the model to understand patterns in non-numerical data."
      ],
      "metadata": {
        "id": "TbeftwwU75Yx"
      }
    }
  ]
}